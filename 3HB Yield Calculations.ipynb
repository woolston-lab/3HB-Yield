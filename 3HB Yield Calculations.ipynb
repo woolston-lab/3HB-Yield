{
 "cells": [
  {
   "cell_type": "markdown",
   "metadata": {},
   "source": [
    "## 3HB Yield Calculations\n",
    "\n",
    "Calculate yield of 3HB possible from\n",
    "* C. ljungdahlii alone on syngas\n",
    "* E. coli alone from acetate\n",
    "\n",
    "These results can be fed to Anthony's model to examine productivity of the co-culture vs. monoculture for this product\n",
    "\n",
    "Critically, the approaches below account for how 3HB production at different yields affects growth yield, e.g. the tradeoff between growth and production."
   ]
  },
  {
   "cell_type": "code",
   "execution_count": 71,
   "metadata": {},
   "outputs": [],
   "source": [
    "import numpy as np\n",
    "import copy\n",
    "import cobra\n",
    "from cobra import Metabolite, Model, Reaction\n",
    "import matplotlib\n",
    "from matplotlib import pyplot as plt\n",
    "%matplotlib inline"
   ]
  },
  {
   "cell_type": "markdown",
   "metadata": {},
   "source": [
    "### E. coli 3HB from Acetate\n",
    "Use the E. coli core model and FBA to examine tradeoff between 3HB production and growth. First add the 3HB reactions and any missing metabolites to the model."
   ]
  },
  {
   "cell_type": "code",
   "execution_count": 13,
   "metadata": {},
   "outputs": [],
   "source": [
    "model = cobra.io.read_sbml_model('e_coli_core.xml')"
   ]
  },
  {
   "cell_type": "code",
   "execution_count": 14,
   "metadata": {},
   "outputs": [],
   "source": [
    "#Add reactions and metabolites for 3HB manually\n",
    "\n",
    "#New metabolites\n",
    "acaccoa_c = Metabolite('acaccoa_c', name = 'acetoacetyl-CoA', compartment = 'c')\n",
    "hbcoa_c = Metabolite('3hbcoa_c', name = '3-hydroxybutyryl-CoA', compartment = 'c')\n",
    "hb_c = Metabolite('3hb_c', name = 'S-3-hydroxybutyrate', compartment = 'c')\n",
    "hb_e = Metabolite('3hb_e', name = 'S-3-hydroxybutyrate', compartment = 'e')\n",
    "\n",
    "#Exisiting metabolites\n",
    "accoa_c = model.metabolites.get_by_id('accoa_c')\n",
    "coa_c = model.metabolites.get_by_id('coa_c')\n",
    "nadh_c = model.metabolites.get_by_id('nadh_c')\n",
    "nad_c = model.metabolites.get_by_id('nad_c')\n",
    "h_c = model.metabolites.get_by_id('h_c')\n",
    "h_e = model.metabolites.get_by_id('h_e')\n",
    "h2o_c = model.metabolites.get_by_id('h2o_c')\n",
    "ac_c = model.metabolites.get_by_id('ac_c')\n",
    "\n",
    "#Reactions\n",
    "THL = Reaction('THL', name = 'Thiolase', lower_bound = -1000, upper_bound = 1000)\n",
    "THL.add_metabolites({accoa_c: -2, acaccoa_c: 1., coa_c: 1})\n",
    "\n",
    "HBDH = Reaction('HBDH', name = '3-hydroxubutyryl-CoA dehydrogenase', lower_bound = -1000, upper_bound = 1000)\n",
    "HBDH.add_metabolites({acaccoa_c:-1, nadh_c: -1, hbcoa_c: 1, nad_c: 1, h_c: -1})\n",
    "\n",
    "PCT = Reaction('PCT', name = 'Propionyl-CoA trarnsferase', lower_bound = -1000, upper_bound = 1000)\n",
    "PCT.add_metabolites({hbcoa_c:-1, ac_c: -1, hb_c: 1, accoa_c: 1})\n",
    "\n",
    "HBtr = Reaction('HBtr', name = '3HB transport via proton symport', lower_bound = -1000, upper_bound = 1000)\n",
    "HBtr.add_metabolites({hb_c:-1, h_c:-1, h_e: 1, hb_e: 1})\n",
    "\n",
    "EX_HB_e = Reaction('EX_HB_e', name = '3HB exchange', lower_bound = 0, upper_bound = 1000)\n",
    "EX_HB_e.add_metabolites({hb_e:-1})\n",
    "\n",
    "model.add_reactions([THL, HBDH, PCT, HBtr, EX_HB_e])"
   ]
  },
  {
   "cell_type": "code",
   "execution_count": 155,
   "metadata": {},
   "outputs": [
    {
     "name": "stdout",
     "output_type": "stream",
     "text": [
      "Growth rate on acetate = 0.173 per hour, when no 3HB produced\n"
     ]
    }
   ],
   "source": [
    "#Change medium to use acetate\n",
    "\n",
    "ac_medium = copy.deepcopy(model.medium)\n",
    "ac_medium['EX_glc__D_e'] = 0.0\n",
    "ac_medium['EX_ac_e'] = 10.0 #mmol/gDCW/hr *****NOTE: Should be set based on known E. coli acetate uptake rates*****\n",
    "model.medium = ac_medium\n",
    "\n",
    "model.objective = 'BIOMASS_Ecoli_core_w_GAM'\n",
    "solution = model.optimize()\n",
    "\n",
    "print(f'Growth rate on acetate = {solution.objective_value:.3f} per hour, when no 3HB produced')"
   ]
  },
  {
   "cell_type": "code",
   "execution_count": 24,
   "metadata": {
    "scrolled": true
   },
   "outputs": [
    {
     "name": "stdout",
     "output_type": "stream",
     "text": [
      "3HB production rate on acetate = 3.173 mmol / gdcw-hour\n",
      "3HB yield = 0.32 mol 3HB / mol acetate\n",
      "Growth rate while maximizing 3HB production is 0.000\n"
     ]
    }
   ],
   "source": [
    "#Now change objective to 3HB and calculate yield on acetate\n",
    "model.objective = model.reactions.get_by_id('EX_HB_e')\n",
    "solution_3HB = model.optimize()\n",
    "print(f'3HB production rate on acetate = {solution_3HB.objective_value:.3f} mmol / gdcw-hour')\n",
    "ac_yield = -1*solution_3HB.objective_value/solution_3HB.fluxes['EX_ac_e']\n",
    "print(f'3HB yield = {ac_yield:.2f} mol 3HB / mol acetate')\n",
    "growth_rate = solution_3HB.fluxes['BIOMASS_Ecoli_core_w_GAM']\n",
    "print(f'Growth rate while maximizing 3HB production is {growth_rate:.3f}')"
   ]
  },
  {
   "cell_type": "code",
   "execution_count": 93,
   "metadata": {},
   "outputs": [
    {
     "data": {
      "text/html": [
       "<div>\n",
       "<style scoped>\n",
       "    .dataframe tbody tr th:only-of-type {\n",
       "        vertical-align: middle;\n",
       "    }\n",
       "\n",
       "    .dataframe tbody tr th {\n",
       "        vertical-align: top;\n",
       "    }\n",
       "\n",
       "    .dataframe thead tr th {\n",
       "        text-align: left;\n",
       "    }\n",
       "</style>\n",
       "<table border=\"1\" class=\"dataframe\">\n",
       "  <thead>\n",
       "    <tr>\n",
       "      <th></th>\n",
       "      <th colspan=\"2\" halign=\"left\">IN_FLUXES</th>\n",
       "      <th colspan=\"2\" halign=\"left\">OUT_FLUXES</th>\n",
       "      <th colspan=\"2\" halign=\"left\">OBJECTIVES</th>\n",
       "    </tr>\n",
       "    <tr>\n",
       "      <th></th>\n",
       "      <th>ID</th>\n",
       "      <th>FLUX</th>\n",
       "      <th>ID</th>\n",
       "      <th>FLUX</th>\n",
       "      <th>ID</th>\n",
       "      <th>FLUX</th>\n",
       "    </tr>\n",
       "  </thead>\n",
       "  <tbody>\n",
       "    <tr>\n",
       "      <th>0</th>\n",
       "      <td>ac_e</td>\n",
       "      <td>10.000000</td>\n",
       "      <td>h2o_e</td>\n",
       "      <td>7.307907</td>\n",
       "      <td>EX_HB_e</td>\n",
       "      <td>3.173023</td>\n",
       "    </tr>\n",
       "    <tr>\n",
       "      <th>1</th>\n",
       "      <td>h_e</td>\n",
       "      <td>6.826977</td>\n",
       "      <td>co2_e</td>\n",
       "      <td>7.307907</td>\n",
       "      <td>NaN</td>\n",
       "      <td>NaN</td>\n",
       "    </tr>\n",
       "    <tr>\n",
       "      <th>2</th>\n",
       "      <td>o2_e</td>\n",
       "      <td>5.721395</td>\n",
       "      <td>3hb_e</td>\n",
       "      <td>3.173023</td>\n",
       "      <td>NaN</td>\n",
       "      <td>NaN</td>\n",
       "    </tr>\n",
       "  </tbody>\n",
       "</table>\n",
       "</div>"
      ],
      "text/plain": [
       "<cobra.core.summary.model_summary.ModelSummary at 0x1971dd7c188>"
      ]
     },
     "execution_count": 93,
     "metadata": {},
     "output_type": "execute_result"
    }
   ],
   "source": [
    "model.summary()"
   ]
  },
  {
   "cell_type": "markdown",
   "metadata": {},
   "source": [
    "It will be helpful to see how 3HB yield affects growth rate. Calculate this with the \"Production Envelope\" function"
   ]
  },
  {
   "cell_type": "code",
   "execution_count": 26,
   "metadata": {},
   "outputs": [],
   "source": [
    "from cobra.flux_analysis import production_envelope"
   ]
  },
  {
   "cell_type": "code",
   "execution_count": 85,
   "metadata": {},
   "outputs": [],
   "source": [
    "#Calculate a production enevelope\n",
    "prod_env = production_envelope(model, ['EX_HB_e'], objective='BIOMASS_Ecoli_core_w_GAM', carbon_sources = 'EX_ac_e')"
   ]
  },
  {
   "cell_type": "code",
   "execution_count": 86,
   "metadata": {},
   "outputs": [],
   "source": [
    "#Calculate yield in the production envelope\n",
    "prod_env['HB_yield'] = prod_env['EX_HB_e']/solution_3HB.fluxes['EX_ac_e']*-1."
   ]
  },
  {
   "cell_type": "code",
   "execution_count": 92,
   "metadata": {},
   "outputs": [
    {
     "data": {
      "text/plain": [
       "Text(0, 0.5, '3HB Production Yield (mol/mol)')"
      ]
     },
     "execution_count": 92,
     "metadata": {},
     "output_type": "execute_result"
    },
    {
     "data": {
      "image/png": "[encoded data removed]",
      "text/plain": [
       "<Figure size 1008x360 with 2 Axes>"
      ]
     },
     "metadata": {
      "needs_background": "light"
     },
     "output_type": "display_data"
    }
   ],
   "source": [
    "#Plot growth rate vs 3HB production, and growth rate vs. 3HB yield\n",
    "fig, axs = plt.subplots(1,2, figsize = (14,5))\n",
    "prod_env.plot(kind = 'line', y = 'EX_HB_e', x = 'flux_maximum', legend = False, ax = axs[0])\n",
    "axs[0].set_title('3HB Production Rate vs. Growth Rate')\n",
    "axs[0].set_ylabel('3HB Production Rate (mmol/gDCW/hr)')\n",
    "axs[0].set_xlabel('Specific Growth Rate (1/hr)')\n",
    "axs[1] = prod_env.plot('flux_maximum', 'HB_yield', ax = axs[1])\n",
    "axs[1].set_title('3HB Yield vs. Growth Rate')\n",
    "axs[1].set_xlabel('Specific Growth Rate (1/hr)')\n",
    "axs[1].set_ylabel('3HB Production Yield (mol/mol)')"
   ]
  },
  {
   "cell_type": "markdown",
   "metadata": {},
   "source": [
    "### 3HB Production from C. ljungdahlii\n",
    "\n",
    "Use a very simple stoichiometric model for C. ljungdahlii to calculate approximate maximal yield, based on Alan Fast's paper (Stoichiometric and energetic analysis of non-photosynthetic CO2-fixation to support synthetic biology strategies for production of fuels and chemicals).\n",
    "\n",
    "Model accounts for reducing equivalent (H2) and ATP cost of biomass, to allow you to look at how 3HB production changes the rate at which biomass can be produced"
   ]
  },
  {
   "cell_type": "code",
   "execution_count": 146,
   "metadata": {},
   "outputs": [],
   "source": [
    "import pandas as pd"
   ]
  },
  {
   "cell_type": "code",
   "execution_count": 147,
   "metadata": {},
   "outputs": [
    {
     "data": {
      "text/html": [
       "<div>\n",
       "<style scoped>\n",
       "    .dataframe tbody tr th:only-of-type {\n",
       "        vertical-align: middle;\n",
       "    }\n",
       "\n",
       "    .dataframe tbody tr th {\n",
       "        vertical-align: top;\n",
       "    }\n",
       "\n",
       "    .dataframe thead th {\n",
       "        text-align: right;\n",
       "    }\n",
       "</style>\n",
       "<table border=\"1\" class=\"dataframe\">\n",
       "  <thead>\n",
       "    <tr style=\"text-align: right;\">\n",
       "      <th></th>\n",
       "      <th>WLP</th>\n",
       "      <th>3HB</th>\n",
       "      <th>Ac</th>\n",
       "      <th>Biomass</th>\n",
       "      <th>CO2 Accumulation</th>\n",
       "      <th>H2 Accumulation</th>\n",
       "      <th>Biomass Accumulation</th>\n",
       "      <th>Acetate Accumulation</th>\n",
       "    </tr>\n",
       "    <tr>\n",
       "      <th>Metabolite</th>\n",
       "      <th></th>\n",
       "      <th></th>\n",
       "      <th></th>\n",
       "      <th></th>\n",
       "      <th></th>\n",
       "      <th></th>\n",
       "      <th></th>\n",
       "      <th></th>\n",
       "    </tr>\n",
       "  </thead>\n",
       "  <tbody>\n",
       "    <tr>\n",
       "      <th>CO2</th>\n",
       "      <td>-2.0</td>\n",
       "      <td>0</td>\n",
       "      <td>0</td>\n",
       "      <td>0.0</td>\n",
       "      <td>-1</td>\n",
       "      <td>0</td>\n",
       "      <td>0</td>\n",
       "      <td>0</td>\n",
       "    </tr>\n",
       "    <tr>\n",
       "      <th>H2</th>\n",
       "      <td>-4.0</td>\n",
       "      <td>-1</td>\n",
       "      <td>0</td>\n",
       "      <td>-0.3</td>\n",
       "      <td>0</td>\n",
       "      <td>-1</td>\n",
       "      <td>0</td>\n",
       "      <td>0</td>\n",
       "    </tr>\n",
       "    <tr>\n",
       "      <th>AcCoA</th>\n",
       "      <td>1.0</td>\n",
       "      <td>-1</td>\n",
       "      <td>-1</td>\n",
       "      <td>-0.5</td>\n",
       "      <td>0</td>\n",
       "      <td>0</td>\n",
       "      <td>0</td>\n",
       "      <td>0</td>\n",
       "    </tr>\n",
       "    <tr>\n",
       "      <th>Acetate</th>\n",
       "      <td>0.0</td>\n",
       "      <td>-1</td>\n",
       "      <td>1</td>\n",
       "      <td>0.0</td>\n",
       "      <td>0</td>\n",
       "      <td>0</td>\n",
       "      <td>0</td>\n",
       "      <td>-1</td>\n",
       "    </tr>\n",
       "    <tr>\n",
       "      <th>3HB</th>\n",
       "      <td>0.0</td>\n",
       "      <td>1</td>\n",
       "      <td>0</td>\n",
       "      <td>0.0</td>\n",
       "      <td>0</td>\n",
       "      <td>0</td>\n",
       "      <td>0</td>\n",
       "      <td>0</td>\n",
       "    </tr>\n",
       "    <tr>\n",
       "      <th>ATP</th>\n",
       "      <td>-0.5</td>\n",
       "      <td>0</td>\n",
       "      <td>1</td>\n",
       "      <td>-4.0</td>\n",
       "      <td>0</td>\n",
       "      <td>0</td>\n",
       "      <td>0</td>\n",
       "      <td>0</td>\n",
       "    </tr>\n",
       "    <tr>\n",
       "      <th>Biomass</th>\n",
       "      <td>0.0</td>\n",
       "      <td>0</td>\n",
       "      <td>0</td>\n",
       "      <td>1.0</td>\n",
       "      <td>0</td>\n",
       "      <td>0</td>\n",
       "      <td>-1</td>\n",
       "      <td>0</td>\n",
       "    </tr>\n",
       "    <tr>\n",
       "      <th>Ratio</th>\n",
       "      <td>0.0</td>\n",
       "      <td>1</td>\n",
       "      <td>0</td>\n",
       "      <td>0.0</td>\n",
       "      <td>0</td>\n",
       "      <td>0</td>\n",
       "      <td>0</td>\n",
       "      <td>-1</td>\n",
       "    </tr>\n",
       "  </tbody>\n",
       "</table>\n",
       "</div>"
      ],
      "text/plain": [
       "            WLP  3HB  Ac  Biomass  CO2 Accumulation  H2 Accumulation  \\\n",
       "Metabolite                                                             \n",
       "CO2        -2.0    0   0      0.0                -1                0   \n",
       "H2         -4.0   -1   0     -0.3                 0               -1   \n",
       "AcCoA       1.0   -1  -1     -0.5                 0                0   \n",
       "Acetate     0.0   -1   1      0.0                 0                0   \n",
       "3HB         0.0    1   0      0.0                 0                0   \n",
       "ATP        -0.5    0   1     -4.0                 0                0   \n",
       "Biomass     0.0    0   0      1.0                 0                0   \n",
       "Ratio       0.0    1   0      0.0                 0                0   \n",
       "\n",
       "            Biomass Accumulation  Acetate Accumulation  \n",
       "Metabolite                                              \n",
       "CO2                            0                     0  \n",
       "H2                             0                     0  \n",
       "AcCoA                          0                     0  \n",
       "Acetate                        0                    -1  \n",
       "3HB                            0                     0  \n",
       "ATP                            0                     0  \n",
       "Biomass                       -1                     0  \n",
       "Ratio                          0                    -1  "
      ]
     },
     "execution_count": 147,
     "metadata": {},
     "output_type": "execute_result"
    }
   ],
   "source": [
    "df = pd.read_excel('3HB_Clj.xlsx', index_col = 0 )\n",
    "df"
   ]
  },
  {
   "cell_type": "code",
   "execution_count": 152,
   "metadata": {},
   "outputs": [],
   "source": [
    "A = df.to_numpy() #Stoichiometry matrix"
   ]
  },
  {
   "cell_type": "code",
   "execution_count": 154,
   "metadata": {},
   "outputs": [],
   "source": [
    "b = np.zeros(8) #Accumulation matrix\n",
    "b[4] = 1 #basis is 1 mol of 3HB produced, accumulation of everything is considered an exchange reaction"
   ]
  },
  {
   "cell_type": "code",
   "execution_count": 145,
   "metadata": {},
   "outputs": [
    {
     "data": {
      "text/plain": [
       "<matplotlib.legend.Legend at 0x1971d475a48>"
      ]
     },
     "execution_count": 145,
     "metadata": {},
     "output_type": "execute_result"
    },
    {
     "data": {
      "image/png": "[encoded data removed]",
      "text/plain": [
       "<Figure size 432x288 with 1 Axes>"
      ]
     },
     "metadata": {
      "needs_background": "light"
     },
     "output_type": "display_data"
    }
   ],
   "source": [
    "product_ratio = np.linspace(0.05, 10, 50) #From 0 3HB/acetate to 10 3HB/acetate\n",
    "HB_yield = []\n",
    "BM_yield = []\n",
    "AC_yield = []\n",
    "for i in product_ratio:\n",
    "    A[7,7]=-1*i\n",
    "    x = np.linalg.solve(A,b)\n",
    "    HB_yield.append(x[1]/-x[4]) #mol 3HB / mol CO2\n",
    "    BM_yield.append(x[6]/-x[4]) #mol biomass / mol CO2 (biomass MW = 26 g/mol so could easily calculate mass instead of mol)\n",
    "    AC_yield.append(x[7]/-x[4]) #mol acetate / mol CO2\n",
    "\n",
    "plt.plot(product_ratio, HB_yield, label = '3HB Yield')\n",
    "plt.plot(product_ratio, BM_yield, label = 'Biomass Yield')\n",
    "plt.plot(product_ratio, AC_yield, label = 'Acetate Yield')\n",
    "plt.xlabel('3HB:Acetate Molar Ratio (mol/mol)')\n",
    "plt.ylabel('Yield (mol x / mol CO2)')\n",
    "plt.legend()"
   ]
  },
  {
   "cell_type": "markdown",
   "metadata": {},
   "source": [
    "How to couple this to your existing model? \n",
    "\n",
    "One way would be to use the growth kinetics from the wild-type strain to calculate carbon uptake rate, rather than growth rate. Then use the yield data provided here to convert those carbon uptake rates to biomass production rates and 3HB production rates. So, your umax and Ks, etc. determine the rate of carbon uptake, and the specific yield you choose then sets both the growth rate and production rate"
   ]
  },
  {
   "cell_type": "code",
   "execution_count": null,
   "metadata": {},
   "outputs": [],
   "source": []
  }
 ],
 "metadata": {
  "kernelspec": {
   "display_name": "Python 3",
   "language": "python",
   "name": "python3"
  },
  "language_info": {
   "codemirror_mode": {
    "name": "ipython",
    "version": 3
   },
   "file_extension": ".py",
   "mimetype": "text/x-python",
   "name": "python",
   "nbconvert_exporter": "python",
   "pygments_lexer": "ipython3",
   "version": "3.7.6"
  }
 },
 "nbformat": 4,
 "nbformat_minor": 2
}
